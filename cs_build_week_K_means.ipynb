{
  "nbformat": 4,
  "nbformat_minor": 0,
  "metadata": {
    "colab": {
      "name": "cs build week K means.ipynb",
      "provenance": [],
      "collapsed_sections": [],
      "authorship_tag": "ABX9TyOYSylfiusQixiOngpequm+",
      "include_colab_link": true
    },
    "kernelspec": {
      "name": "python3",
      "display_name": "Python 3"
    }
  },
  "cells": [
    {
      "cell_type": "markdown",
      "metadata": {
        "id": "view-in-github",
        "colab_type": "text"
      },
      "source": [
        "<a href=\"https://colab.research.google.com/github/michhottinger/CS-Data-Science-Build-Week-1/blob/master/cs_build_week_K_means.ipynb\" target=\"_parent\"><img src=\"https://colab.research.google.com/assets/colab-badge.svg\" alt=\"Open In Colab\"/></a>"
      ]
    },
    {
      "cell_type": "code",
      "metadata": {
        "id": "cj6RpELeiVhc",
        "colab_type": "code",
        "colab": {}
      },
      "source": [
        "# Modules\n",
        "import matplotlib.pyplot as plt\n",
        "from matplotlib.image import imread\n",
        "import pandas as pd\n",
        "import numpy as np\n",
        "import seaborn as sns\n",
        "from sklearn.datasets.samples_generator import (make_blobs,\n",
        "                                                make_circles,\n",
        "                                                make_moons)\n",
        "from sklearn.cluster import KMeans, SpectralClustering\n",
        "from sklearn.preprocessing import StandardScaler\n",
        "from sklearn.metrics import silhouette_samples, silhouette_score\n",
        "\n",
        "%matplotlib inline\n",
        "sns.set_context('notebook')\n",
        "plt.style.use('fivethirtyeight')\n",
        "from warnings import filterwarnings\n",
        "filterwarnings('ignore')\n"
      ],
      "execution_count": 31,
      "outputs": []
    },
    {
      "cell_type": "code",
      "metadata": {
        "id": "n_y1fPFNiqeF",
        "colab_type": "code",
        "colab": {
          "base_uri": "https://localhost:8080/",
          "height": 197
        },
        "outputId": "19c18264-14b3-4f5b-9527-7e2a37bd9a80"
      },
      "source": [
        "# Import the data\n",
        "df = pd.read_csv('https://raw.githubusercontent.com/michhottinger/CS-Data-Science-Build-Week-1/master/datasets_33180_43520_heart.csv')\n",
        "df.head(5)"
      ],
      "execution_count": 2,
      "outputs": [
        {
          "output_type": "execute_result",
          "data": {
            "text/html": [
              "<div>\n",
              "<style scoped>\n",
              "    .dataframe tbody tr th:only-of-type {\n",
              "        vertical-align: middle;\n",
              "    }\n",
              "\n",
              "    .dataframe tbody tr th {\n",
              "        vertical-align: top;\n",
              "    }\n",
              "\n",
              "    .dataframe thead th {\n",
              "        text-align: right;\n",
              "    }\n",
              "</style>\n",
              "<table border=\"1\" class=\"dataframe\">\n",
              "  <thead>\n",
              "    <tr style=\"text-align: right;\">\n",
              "      <th></th>\n",
              "      <th>age</th>\n",
              "      <th>sex</th>\n",
              "      <th>cp</th>\n",
              "      <th>trestbps</th>\n",
              "      <th>chol</th>\n",
              "      <th>fbs</th>\n",
              "      <th>restecg</th>\n",
              "      <th>thalach</th>\n",
              "      <th>exang</th>\n",
              "      <th>oldpeak</th>\n",
              "      <th>slope</th>\n",
              "      <th>ca</th>\n",
              "      <th>thal</th>\n",
              "      <th>target</th>\n",
              "    </tr>\n",
              "  </thead>\n",
              "  <tbody>\n",
              "    <tr>\n",
              "      <th>0</th>\n",
              "      <td>63</td>\n",
              "      <td>1</td>\n",
              "      <td>3</td>\n",
              "      <td>145</td>\n",
              "      <td>233</td>\n",
              "      <td>1</td>\n",
              "      <td>0</td>\n",
              "      <td>150</td>\n",
              "      <td>0</td>\n",
              "      <td>2.3</td>\n",
              "      <td>0</td>\n",
              "      <td>0</td>\n",
              "      <td>1</td>\n",
              "      <td>1</td>\n",
              "    </tr>\n",
              "    <tr>\n",
              "      <th>1</th>\n",
              "      <td>37</td>\n",
              "      <td>1</td>\n",
              "      <td>2</td>\n",
              "      <td>130</td>\n",
              "      <td>250</td>\n",
              "      <td>0</td>\n",
              "      <td>1</td>\n",
              "      <td>187</td>\n",
              "      <td>0</td>\n",
              "      <td>3.5</td>\n",
              "      <td>0</td>\n",
              "      <td>0</td>\n",
              "      <td>2</td>\n",
              "      <td>1</td>\n",
              "    </tr>\n",
              "    <tr>\n",
              "      <th>2</th>\n",
              "      <td>41</td>\n",
              "      <td>0</td>\n",
              "      <td>1</td>\n",
              "      <td>130</td>\n",
              "      <td>204</td>\n",
              "      <td>0</td>\n",
              "      <td>0</td>\n",
              "      <td>172</td>\n",
              "      <td>0</td>\n",
              "      <td>1.4</td>\n",
              "      <td>2</td>\n",
              "      <td>0</td>\n",
              "      <td>2</td>\n",
              "      <td>1</td>\n",
              "    </tr>\n",
              "    <tr>\n",
              "      <th>3</th>\n",
              "      <td>56</td>\n",
              "      <td>1</td>\n",
              "      <td>1</td>\n",
              "      <td>120</td>\n",
              "      <td>236</td>\n",
              "      <td>0</td>\n",
              "      <td>1</td>\n",
              "      <td>178</td>\n",
              "      <td>0</td>\n",
              "      <td>0.8</td>\n",
              "      <td>2</td>\n",
              "      <td>0</td>\n",
              "      <td>2</td>\n",
              "      <td>1</td>\n",
              "    </tr>\n",
              "    <tr>\n",
              "      <th>4</th>\n",
              "      <td>57</td>\n",
              "      <td>0</td>\n",
              "      <td>0</td>\n",
              "      <td>120</td>\n",
              "      <td>354</td>\n",
              "      <td>0</td>\n",
              "      <td>1</td>\n",
              "      <td>163</td>\n",
              "      <td>1</td>\n",
              "      <td>0.6</td>\n",
              "      <td>2</td>\n",
              "      <td>0</td>\n",
              "      <td>2</td>\n",
              "      <td>1</td>\n",
              "    </tr>\n",
              "  </tbody>\n",
              "</table>\n",
              "</div>"
            ],
            "text/plain": [
              "   age  sex  cp  trestbps  chol  fbs  ...  exang  oldpeak  slope  ca  thal  target\n",
              "0   63    1   3       145   233    1  ...      0      2.3      0   0     1       1\n",
              "1   37    1   2       130   250    0  ...      0      3.5      0   0     2       1\n",
              "2   41    0   1       130   204    0  ...      0      1.4      2   0     2       1\n",
              "3   56    1   1       120   236    0  ...      0      0.8      2   0     2       1\n",
              "4   57    0   0       120   354    0  ...      1      0.6      2   0     2       1\n",
              "\n",
              "[5 rows x 14 columns]"
            ]
          },
          "metadata": {
            "tags": []
          },
          "execution_count": 2
        }
      ]
    },
    {
      "cell_type": "code",
      "metadata": {
        "id": "Fg3ywYQLiqjy",
        "colab_type": "code",
        "colab": {
          "base_uri": "https://localhost:8080/",
          "height": 217
        },
        "outputId": "113c0cad-632e-40e6-9264-2aa082130a12"
      },
      "source": [
        "#dealing with categorical data. One hot encoding would work here too\n",
        "\n",
        "a = pd.get_dummies(df['cp'], prefix = \"cp\")\n",
        "b = pd.get_dummies(df['thal'], prefix = \"thal\")\n",
        "c = pd.get_dummies(df['slope'], prefix = \"slope\")\n",
        "d = pd.get_dummies(df['sex'], prefix = \"sex\")\n",
        "e = pd.get_dummies(df['restecg'], prefix = \"restecg\")\n",
        "\n",
        "frames = [df, a, b, c, d, e]\n",
        "df = pd.concat(frames, axis = 1)\n",
        "df.head()\n",
        "\n",
        "\n",
        "df_copy = df.drop(columns = ['cp', 'thal', 'slope', 'sex', 'restecg'])\n",
        "df_copy.head()"
      ],
      "execution_count": 3,
      "outputs": [
        {
          "output_type": "execute_result",
          "data": {
            "text/html": [
              "<div>\n",
              "<style scoped>\n",
              "    .dataframe tbody tr th:only-of-type {\n",
              "        vertical-align: middle;\n",
              "    }\n",
              "\n",
              "    .dataframe tbody tr th {\n",
              "        vertical-align: top;\n",
              "    }\n",
              "\n",
              "    .dataframe thead th {\n",
              "        text-align: right;\n",
              "    }\n",
              "</style>\n",
              "<table border=\"1\" class=\"dataframe\">\n",
              "  <thead>\n",
              "    <tr style=\"text-align: right;\">\n",
              "      <th></th>\n",
              "      <th>age</th>\n",
              "      <th>trestbps</th>\n",
              "      <th>chol</th>\n",
              "      <th>fbs</th>\n",
              "      <th>thalach</th>\n",
              "      <th>exang</th>\n",
              "      <th>oldpeak</th>\n",
              "      <th>ca</th>\n",
              "      <th>target</th>\n",
              "      <th>cp_0</th>\n",
              "      <th>cp_1</th>\n",
              "      <th>cp_2</th>\n",
              "      <th>cp_3</th>\n",
              "      <th>thal_0</th>\n",
              "      <th>thal_1</th>\n",
              "      <th>thal_2</th>\n",
              "      <th>thal_3</th>\n",
              "      <th>slope_0</th>\n",
              "      <th>slope_1</th>\n",
              "      <th>slope_2</th>\n",
              "      <th>sex_0</th>\n",
              "      <th>sex_1</th>\n",
              "      <th>restecg_0</th>\n",
              "      <th>restecg_1</th>\n",
              "      <th>restecg_2</th>\n",
              "    </tr>\n",
              "  </thead>\n",
              "  <tbody>\n",
              "    <tr>\n",
              "      <th>0</th>\n",
              "      <td>63</td>\n",
              "      <td>145</td>\n",
              "      <td>233</td>\n",
              "      <td>1</td>\n",
              "      <td>150</td>\n",
              "      <td>0</td>\n",
              "      <td>2.3</td>\n",
              "      <td>0</td>\n",
              "      <td>1</td>\n",
              "      <td>0</td>\n",
              "      <td>0</td>\n",
              "      <td>0</td>\n",
              "      <td>1</td>\n",
              "      <td>0</td>\n",
              "      <td>1</td>\n",
              "      <td>0</td>\n",
              "      <td>0</td>\n",
              "      <td>1</td>\n",
              "      <td>0</td>\n",
              "      <td>0</td>\n",
              "      <td>0</td>\n",
              "      <td>1</td>\n",
              "      <td>1</td>\n",
              "      <td>0</td>\n",
              "      <td>0</td>\n",
              "    </tr>\n",
              "    <tr>\n",
              "      <th>1</th>\n",
              "      <td>37</td>\n",
              "      <td>130</td>\n",
              "      <td>250</td>\n",
              "      <td>0</td>\n",
              "      <td>187</td>\n",
              "      <td>0</td>\n",
              "      <td>3.5</td>\n",
              "      <td>0</td>\n",
              "      <td>1</td>\n",
              "      <td>0</td>\n",
              "      <td>0</td>\n",
              "      <td>1</td>\n",
              "      <td>0</td>\n",
              "      <td>0</td>\n",
              "      <td>0</td>\n",
              "      <td>1</td>\n",
              "      <td>0</td>\n",
              "      <td>1</td>\n",
              "      <td>0</td>\n",
              "      <td>0</td>\n",
              "      <td>0</td>\n",
              "      <td>1</td>\n",
              "      <td>0</td>\n",
              "      <td>1</td>\n",
              "      <td>0</td>\n",
              "    </tr>\n",
              "    <tr>\n",
              "      <th>2</th>\n",
              "      <td>41</td>\n",
              "      <td>130</td>\n",
              "      <td>204</td>\n",
              "      <td>0</td>\n",
              "      <td>172</td>\n",
              "      <td>0</td>\n",
              "      <td>1.4</td>\n",
              "      <td>0</td>\n",
              "      <td>1</td>\n",
              "      <td>0</td>\n",
              "      <td>1</td>\n",
              "      <td>0</td>\n",
              "      <td>0</td>\n",
              "      <td>0</td>\n",
              "      <td>0</td>\n",
              "      <td>1</td>\n",
              "      <td>0</td>\n",
              "      <td>0</td>\n",
              "      <td>0</td>\n",
              "      <td>1</td>\n",
              "      <td>1</td>\n",
              "      <td>0</td>\n",
              "      <td>1</td>\n",
              "      <td>0</td>\n",
              "      <td>0</td>\n",
              "    </tr>\n",
              "    <tr>\n",
              "      <th>3</th>\n",
              "      <td>56</td>\n",
              "      <td>120</td>\n",
              "      <td>236</td>\n",
              "      <td>0</td>\n",
              "      <td>178</td>\n",
              "      <td>0</td>\n",
              "      <td>0.8</td>\n",
              "      <td>0</td>\n",
              "      <td>1</td>\n",
              "      <td>0</td>\n",
              "      <td>1</td>\n",
              "      <td>0</td>\n",
              "      <td>0</td>\n",
              "      <td>0</td>\n",
              "      <td>0</td>\n",
              "      <td>1</td>\n",
              "      <td>0</td>\n",
              "      <td>0</td>\n",
              "      <td>0</td>\n",
              "      <td>1</td>\n",
              "      <td>0</td>\n",
              "      <td>1</td>\n",
              "      <td>0</td>\n",
              "      <td>1</td>\n",
              "      <td>0</td>\n",
              "    </tr>\n",
              "    <tr>\n",
              "      <th>4</th>\n",
              "      <td>57</td>\n",
              "      <td>120</td>\n",
              "      <td>354</td>\n",
              "      <td>0</td>\n",
              "      <td>163</td>\n",
              "      <td>1</td>\n",
              "      <td>0.6</td>\n",
              "      <td>0</td>\n",
              "      <td>1</td>\n",
              "      <td>1</td>\n",
              "      <td>0</td>\n",
              "      <td>0</td>\n",
              "      <td>0</td>\n",
              "      <td>0</td>\n",
              "      <td>0</td>\n",
              "      <td>1</td>\n",
              "      <td>0</td>\n",
              "      <td>0</td>\n",
              "      <td>0</td>\n",
              "      <td>1</td>\n",
              "      <td>1</td>\n",
              "      <td>0</td>\n",
              "      <td>0</td>\n",
              "      <td>1</td>\n",
              "      <td>0</td>\n",
              "    </tr>\n",
              "  </tbody>\n",
              "</table>\n",
              "</div>"
            ],
            "text/plain": [
              "   age  trestbps  chol  fbs  ...  sex_1  restecg_0  restecg_1  restecg_2\n",
              "0   63       145   233    1  ...      1          1          0          0\n",
              "1   37       130   250    0  ...      1          0          1          0\n",
              "2   41       130   204    0  ...      0          1          0          0\n",
              "3   56       120   236    0  ...      1          0          1          0\n",
              "4   57       120   354    0  ...      0          0          1          0\n",
              "\n",
              "[5 rows x 25 columns]"
            ]
          },
          "metadata": {
            "tags": []
          },
          "execution_count": 3
        }
      ]
    },
    {
      "cell_type": "code",
      "metadata": {
        "id": "finQzih9CtS0",
        "colab_type": "code",
        "colab": {
          "base_uri": "https://localhost:8080/",
          "height": 34
        },
        "outputId": "81422e4f-be23-4557-a1bf-f12a4c3d19c9"
      },
      "source": [
        "df_copy.shape"
      ],
      "execution_count": 4,
      "outputs": [
        {
          "output_type": "execute_result",
          "data": {
            "text/plain": [
              "(303, 25)"
            ]
          },
          "metadata": {
            "tags": []
          },
          "execution_count": 4
        }
      ]
    },
    {
      "cell_type": "code",
      "metadata": {
        "id": "9d1KtxVLiqnt",
        "colab_type": "code",
        "colab": {
          "base_uri": "https://localhost:8080/",
          "height": 404
        },
        "outputId": "47b0b26e-5122-4528-906c-9dec020d2200"
      },
      "source": [
        "# Plot the data to see what some of the features look like\n",
        "#could also use crosstabs here\n",
        "plt.figure(figsize=(6, 6))\n",
        "plt.scatter(df_copy.chol, df_copy.age)\n",
        "plt.xlabel('age')\n",
        "plt.ylabel('chol')\n",
        "plt.title('Visualization of raw data');"
      ],
      "execution_count": 5,
      "outputs": [
        {
          "output_type": "display_data",
          "data": {
            "image/png": "[encoded data removed]",
            "text/plain": [
              "<Figure size 432x432 with 1 Axes>"
            ]
          },
          "metadata": {
            "tags": [],
            "needs_background": "light"
          }
        }
      ]
    },
    {
      "cell_type": "code",
      "metadata": {
        "id": "3wORsMbDiqrk",
        "colab_type": "code",
        "colab": {
          "base_uri": "https://localhost:8080/",
          "height": 34
        },
        "outputId": "ea09facb-f4b9-43cc-9ca5-744ee790fd2f"
      },
      "source": [
        "#make a copy called data to use clusters on just a few features\n",
        "data = df_copy[['chol', 'age']]\n",
        "data.shape"
      ],
      "execution_count": 6,
      "outputs": [
        {
          "output_type": "execute_result",
          "data": {
            "text/plain": [
              "(303, 2)"
            ]
          },
          "metadata": {
            "tags": []
          },
          "execution_count": 6
        }
      ]
    },
    {
      "cell_type": "code",
      "metadata": {
        "id": "5PXIbfes21uT",
        "colab_type": "code",
        "colab": {
          "base_uri": "https://localhost:8080/",
          "height": 295
        },
        "outputId": "2fed71a0-55a9-4e77-e4c2-90464c4acddd"
      },
      "source": [
        "#uses sklearn kMeans\n",
        "# Standardize the the small data set\n",
        "X_std = StandardScaler().fit_transform(data)\n",
        "\n",
        "#use elbow graph to see how many clusters might work\n",
        "elbow = []\n",
        "for i in range(1,10):\n",
        "    km = KMeans(n_clusters = i, max_iter = 20, random_state = 42)\n",
        "    km.fit(X_std)\n",
        "    elbow.append(km.inertia_)\n",
        "\n",
        "#Plot cluster\n",
        "plt.plot(range(1,10), elbow)\n",
        "plt.xlabel('Num of cluster')\n",
        "plt.title('Elbow Method')\n",
        "plt.ylabel('Inertia')\n",
        "plt.show()"
      ],
      "execution_count": 7,
      "outputs": [
        {
          "output_type": "display_data",
          "data": {
            "image/png": "[encoded data removed]",
            "text/plain": [
              "<Figure size 432x288 with 1 Axes>"
            ]
          },
          "metadata": {
            "tags": [],
            "needs_background": "light"
          }
        }
      ]
    },
    {
      "cell_type": "code",
      "metadata": {
        "id": "lVe1ngU2iqx5",
        "colab_type": "code",
        "colab": {
          "base_uri": "https://localhost:8080/",
          "height": 70
        },
        "outputId": "9d6c7ed2-4724-4e4b-90f8-eac164a6456b"
      },
      "source": [
        "# Run sklearn KMeans: on samll data set here\n",
        "\n",
        "km = KMeans(n_clusters=3, max_iter=500, random_state = 42)\n",
        "km.fit(X_std)\n"
      ],
      "execution_count": 8,
      "outputs": [
        {
          "output_type": "execute_result",
          "data": {
            "text/plain": [
              "KMeans(algorithm='auto', copy_x=True, init='k-means++', max_iter=500,\n",
              "       n_clusters=3, n_init=10, n_jobs=None, precompute_distances='auto',\n",
              "       random_state=42, tol=0.0001, verbose=0)"
            ]
          },
          "metadata": {
            "tags": []
          },
          "execution_count": 8
        }
      ]
    },
    {
      "cell_type": "code",
      "metadata": {
        "id": "qYiU1dsQk63z",
        "colab_type": "code",
        "colab": {
          "base_uri": "https://localhost:8080/",
          "height": 70
        },
        "outputId": "f48936b2-852b-4041-f397-b2f84b221ed5"
      },
      "source": [
        "centroids = km.cluster_centers_\n",
        "centroids\n"
      ],
      "execution_count": 9,
      "outputs": [
        {
          "output_type": "execute_result",
          "data": {
            "text/plain": [
              "array([[ 1.12796899,  0.57406348],\n",
              "       [-0.30406765, -1.15211421],\n",
              "       [-0.54069438,  0.56294192]])"
            ]
          },
          "metadata": {
            "tags": []
          },
          "execution_count": 9
        }
      ]
    },
    {
      "cell_type": "code",
      "metadata": {
        "id": "GTEvLBcgjNul",
        "colab_type": "code",
        "colab": {
          "base_uri": "https://localhost:8080/",
          "height": 404
        },
        "outputId": "fd57f47d-7e1c-42eb-fb46-2604bc5de00d"
      },
      "source": [
        "# Plot the clustered data\n",
        "fig, ax = plt.subplots(figsize=(6, 6))\n",
        "plt.scatter(X_std[km.labels_ == 0, 0], X_std[km.labels_ == 0, 1],\n",
        "            c='green', label='cluster 1')\n",
        "plt.scatter(X_std[km.labels_ == 1, 0], X_std[km.labels_ == 1, 1],\n",
        "            c='blue', label='cluster 2')\n",
        "plt.scatter(X_std[km.labels_ == 2, 0], X_std[km.labels_ == 2, 1],\n",
        "            c='yellow', label='cluster 3')\n",
        "plt.scatter(centroids[:, 0], centroids[:, 1], marker='*', s=300,\n",
        "            c='r', label='centroid')\n",
        "plt.legend()\n",
        "plt.xlim([-3, 4])\n",
        "plt.ylim([-3, 4])\n",
        "plt.xlabel('age')\n",
        "plt.ylabel('chol')\n",
        "plt.title('Visualization of clustered data', fontweight='bold')\n",
        "ax.set_aspect('equal');"
      ],
      "execution_count": 10,
      "outputs": [
        {
          "output_type": "display_data",
          "data": {
            "image/png": "[encoded data removed]",
            "text/plain": [
              "<Figure size 432x432 with 1 Axes>"
            ]
          },
          "metadata": {
            "tags": [],
            "needs_background": "light"
          }
        }
      ]
    },
    {
      "cell_type": "code",
      "metadata": {
        "id": "6BlK8-PyjN3M",
        "colab_type": "code",
        "colab": {
          "base_uri": "https://localhost:8080/",
          "height": 287
        },
        "outputId": "2fd9830c-570b-4dfe-f255-1ae142689ded"
      },
      "source": [
        "data['cluster'] = km.labels_\n",
        "data.head(5)\n",
        "data.describe()"
      ],
      "execution_count": 11,
      "outputs": [
        {
          "output_type": "execute_result",
          "data": {
            "text/html": [
              "<div>\n",
              "<style scoped>\n",
              "    .dataframe tbody tr th:only-of-type {\n",
              "        vertical-align: middle;\n",
              "    }\n",
              "\n",
              "    .dataframe tbody tr th {\n",
              "        vertical-align: top;\n",
              "    }\n",
              "\n",
              "    .dataframe thead th {\n",
              "        text-align: right;\n",
              "    }\n",
              "</style>\n",
              "<table border=\"1\" class=\"dataframe\">\n",
              "  <thead>\n",
              "    <tr style=\"text-align: right;\">\n",
              "      <th></th>\n",
              "      <th>chol</th>\n",
              "      <th>age</th>\n",
              "      <th>cluster</th>\n",
              "    </tr>\n",
              "  </thead>\n",
              "  <tbody>\n",
              "    <tr>\n",
              "      <th>count</th>\n",
              "      <td>303.000000</td>\n",
              "      <td>303.000000</td>\n",
              "      <td>303.000000</td>\n",
              "    </tr>\n",
              "    <tr>\n",
              "      <th>mean</th>\n",
              "      <td>246.264026</td>\n",
              "      <td>54.366337</td>\n",
              "      <td>1.115512</td>\n",
              "    </tr>\n",
              "    <tr>\n",
              "      <th>std</th>\n",
              "      <td>51.830751</td>\n",
              "      <td>9.082101</td>\n",
              "      <td>0.811664</td>\n",
              "    </tr>\n",
              "    <tr>\n",
              "      <th>min</th>\n",
              "      <td>126.000000</td>\n",
              "      <td>29.000000</td>\n",
              "      <td>0.000000</td>\n",
              "    </tr>\n",
              "    <tr>\n",
              "      <th>25%</th>\n",
              "      <td>211.000000</td>\n",
              "      <td>47.500000</td>\n",
              "      <td>0.000000</td>\n",
              "    </tr>\n",
              "    <tr>\n",
              "      <th>50%</th>\n",
              "      <td>240.000000</td>\n",
              "      <td>55.000000</td>\n",
              "      <td>1.000000</td>\n",
              "    </tr>\n",
              "    <tr>\n",
              "      <th>75%</th>\n",
              "      <td>274.500000</td>\n",
              "      <td>61.000000</td>\n",
              "      <td>2.000000</td>\n",
              "    </tr>\n",
              "    <tr>\n",
              "      <th>max</th>\n",
              "      <td>564.000000</td>\n",
              "      <td>77.000000</td>\n",
              "      <td>2.000000</td>\n",
              "    </tr>\n",
              "  </tbody>\n",
              "</table>\n",
              "</div>"
            ],
            "text/plain": [
              "             chol         age     cluster\n",
              "count  303.000000  303.000000  303.000000\n",
              "mean   246.264026   54.366337    1.115512\n",
              "std     51.830751    9.082101    0.811664\n",
              "min    126.000000   29.000000    0.000000\n",
              "25%    211.000000   47.500000    0.000000\n",
              "50%    240.000000   55.000000    1.000000\n",
              "75%    274.500000   61.000000    2.000000\n",
              "max    564.000000   77.000000    2.000000"
            ]
          },
          "metadata": {
            "tags": []
          },
          "execution_count": 11
        }
      ]
    },
    {
      "cell_type": "code",
      "metadata": {
        "id": "Vn-uHwVdjN9L",
        "colab_type": "code",
        "colab": {
          "base_uri": "https://localhost:8080/",
          "height": 278
        },
        "outputId": "df4eb240-f9df-47d1-afa6-e40d966a9ce8"
      },
      "source": [
        "fig, ax = plt.subplots()\n",
        "colors = {0:'magenta', 1:'blue', 2:'orange', 3:'red', 4:'pink', 5:'yellow', 6:'purple', 7:'black', 8:'green'}\n",
        "grouped = data.groupby('cluster')\n",
        "for key, group in grouped:\n",
        "    group.plot(ax=ax, kind='scatter', x='age', y='chol', label=key, color=colors[key])\n",
        "plt.show()"
      ],
      "execution_count": 12,
      "outputs": [
        {
          "output_type": "display_data",
          "data": {
            "image/png": "[encoded data removed]",
            "text/plain": [
              "<Figure size 432x288 with 1 Axes>"
            ]
          },
          "metadata": {
            "tags": [],
            "needs_background": "light"
          }
        }
      ]
    },
    {
      "cell_type": "code",
      "metadata": {
        "id": "pEsqols7NExS",
        "colab_type": "code",
        "colab": {
          "base_uri": "https://localhost:8080/",
          "height": 278
        },
        "outputId": "7b641fb1-1d17-414a-f0d7-74b8c241b574"
      },
      "source": [
        "# diagnosis of heart disease (angiographic disease status)\n",
        "# -- Value 0: < 50% diameter narrowing -- Value 1: > 50% diameter narrowing\n",
        "\n",
        "#check out the same data on the whole dataset that we have preped showing the target\n",
        "\n",
        "fig, ax = plt.subplots()\n",
        "colors = {0:'green', 1:'red'}\n",
        "groups = df_copy.groupby('target')\n",
        "for key, item in groups:\n",
        "    item.plot(ax=ax, kind='scatter', x='age', y='chol', label=key, color=colors[key])\n",
        "plt.show()"
      ],
      "execution_count": 13,
      "outputs": [
        {
          "output_type": "display_data",
          "data": {
            "image/png": "[encoded data removed]",
            "text/plain": [
              "<Figure size 432x288 with 1 Axes>"
            ]
          },
          "metadata": {
            "tags": [],
            "needs_background": "light"
          }
        }
      ]
    },
    {
      "cell_type": "code",
      "metadata": {
        "id": "GzPDi_lW_fAH",
        "colab_type": "code",
        "colab": {
          "base_uri": "https://localhost:8080/",
          "height": 34
        },
        "outputId": "68e935e4-a317-4216-a9f8-e2406b01a434"
      },
      "source": [
        "\n",
        "features = ['age',\t'trestbps',\t'chol', \n",
        "            'thalach', 'exang', 'oldpeak', 'ca', 'cp_0', \n",
        "            'cp_1', 'cp_2', 'cp_3', 'thal_0', 'thal_1', 'thal_2', \n",
        "            'thal_3', 'slope_0',\t'slope_1', 'slope_2', 'sex_0', 'sex_1', 'restecg_0', \n",
        "            'restecg_1', 'restecg_2']\n",
        "df_copy.shape"
      ],
      "execution_count": 14,
      "outputs": [
        {
          "output_type": "execute_result",
          "data": {
            "text/plain": [
              "(303, 25)"
            ]
          },
          "metadata": {
            "tags": []
          },
          "execution_count": 14
        }
      ]
    },
    {
      "cell_type": "code",
      "metadata": {
        "id": "XaT1LH8jbZHE",
        "colab_type": "code",
        "colab": {
          "base_uri": "https://localhost:8080/",
          "height": 34
        },
        "outputId": "9f9c3155-2bdc-4643-eb92-0f741d80c1f2"
      },
      "source": [
        "X = df_copy\n",
        "X = df_copy.drop(columns = ['target', 'fbs'])\n",
        "\n",
        "X.shape\n"
      ],
      "execution_count": 15,
      "outputs": [
        {
          "output_type": "execute_result",
          "data": {
            "text/plain": [
              "(303, 23)"
            ]
          },
          "metadata": {
            "tags": []
          },
          "execution_count": 15
        }
      ]
    },
    {
      "cell_type": "code",
      "metadata": {
        "id": "FcSTsNIpDcoD",
        "colab_type": "code",
        "colab": {
          "base_uri": "https://localhost:8080/",
          "height": 247
        },
        "outputId": "6147174f-fc48-4d22-f0f2-7f4b6affceb7"
      },
      "source": [
        "#standardize X\n",
        "X_std4 = StandardScaler().fit_transform(X)\n",
        "X_std4"
      ],
      "execution_count": 41,
      "outputs": [
        {
          "output_type": "execute_result",
          "data": {
            "text/plain": [
              "array([[ 0.9521966 ,  0.76395577, -0.25633371, ..., -0.11566299,\n",
              "         0.07687676, -1.07788328],\n",
              "       [-1.91531289, -0.09273778,  0.07219949, ..., -0.11566299,\n",
              "        -1.21721536,  0.15923276],\n",
              "       [-1.47415758, -0.09273778, -0.81677269, ..., -0.11566299,\n",
              "         1.37096887,  1.3963488 ],\n",
              "       ...,\n",
              "       [ 1.50364073,  0.70684287, -1.029353  , ..., -0.11566299,\n",
              "         0.07687676, -1.07788328],\n",
              "       [ 0.29046364, -0.09273778, -2.2275329 , ..., -0.11566299,\n",
              "         0.07687676, -1.07788328],\n",
              "       [ 0.29046364, -0.09273778, -0.19835726, ..., -0.11566299,\n",
              "         1.37096887,  1.3963488 ]])"
            ]
          },
          "metadata": {
            "tags": []
          },
          "execution_count": 41
        }
      ]
    },
    {
      "cell_type": "code",
      "metadata": {
        "id": "CNUPzONZO1i7",
        "colab_type": "code",
        "colab": {
          "base_uri": "https://localhost:8080/",
          "height": 247
        },
        "outputId": "992ead1e-6e58-4243-fb24-a3e85ee70139"
      },
      "source": [
        "#pca data to deal with categorical stuff using X_std4 already scaled\n",
        "from sklearn.decomposition import PCA\n",
        "std_pca = StandardScaler().fit_transform(X)\n",
        "\n",
        "Z = std_pca\n",
        "\n",
        "# Perform PCA\n",
        "pca = PCA(17)\n",
        "pca.fit(Z)\n",
        "transformed_data = pca.transform(Z)\n",
        "transformed_data\n"
      ],
      "execution_count": 55,
      "outputs": [
        {
          "output_type": "execute_result",
          "data": {
            "text/plain": [
              "array([[ 2.15906033, -0.29088097,  2.61572135, ..., -1.376803  ,\n",
              "        -0.37948679, -0.58184331],\n",
              "       [-2.15334085, -1.1308321 , -0.34544697, ...,  1.7843542 ,\n",
              "        -0.29878423,  0.15707322],\n",
              "       [-2.36599359,  1.71188766,  1.12857401, ..., -0.171887  ,\n",
              "         1.03811528,  1.17126678],\n",
              "       ...,\n",
              "       [ 3.13232401, -1.18083334, -1.51721785, ...,  0.57936298,\n",
              "        -1.1884962 ,  1.40028247],\n",
              "       [ 2.94734399, -1.79236886, -2.16484724, ..., -0.62375573,\n",
              "         0.37225247, -0.201015  ],\n",
              "       [-1.05304896,  2.56346877,  0.76867927, ...,  0.3948038 ,\n",
              "         0.03080351, -0.40363372]])"
            ]
          },
          "metadata": {
            "tags": []
          },
          "execution_count": 55
        }
      ]
    },
    {
      "cell_type": "code",
      "metadata": {
        "id": "HtIpDqYfC70H",
        "colab_type": "code",
        "colab": {}
      },
      "source": [
        "# Define scree plot function\n",
        "def scree_plot(pca):\n",
        "    '''\n",
        "    Creates a scree plot associated with the principal components \n",
        "    \n",
        "    INPUT: pca - the result of instantian of PCA in scikit learn\n",
        "            \n",
        "    OUTPUT:\n",
        "            None\n",
        "    '''\n",
        "    num_components=len(pca.explained_variance_ratio_)\n",
        "    ind = np.arange(num_components)\n",
        "    vals = pca.explained_variance_ratio_\n",
        " \n",
        "    plt.figure(figsize=(18, 6))\n",
        "    ax = plt.subplot(111)\n",
        "    cumvals = np.cumsum(vals)\n",
        "    ax.bar(ind, vals)\n",
        "    ax.plot(ind, cumvals)\n",
        "    for i in range(num_components):\n",
        "        ax.annotate(r\"%s\" % ((str(vals[i]*100)[:3])), (ind[i], vals[i]), va=\"bottom\", ha=\"center\", fontsize=4.5)\n",
        " \n",
        "    ax.xaxis.set_tick_params(width=0)\n",
        "    ax.yaxis.set_tick_params(width=2, length=12)\n",
        " \n",
        "    ax.set_xlabel(\"Principal Component\")\n",
        "    ax.set_ylabel(\"Variance Explained (%)\")\n",
        "    plt.title('Explained Variance Per Principal Component')"
      ],
      "execution_count": 29,
      "outputs": []
    },
    {
      "cell_type": "code",
      "metadata": {
        "id": "eKGs6XgYFj5V",
        "colab_type": "code",
        "colab": {
          "base_uri": "https://localhost:8080/",
          "height": 436
        },
        "outputId": "716d1dda-15d6-4368-bdf1-14d4aab183b1"
      },
      "source": [
        "scree_plot(pca)#find where the variance is highest"
      ],
      "execution_count": 56,
      "outputs": [
        {
          "output_type": "display_data",
          "data": {
            "image/png": "[encoded data removed]",
            "text/plain": [
              "<Figure size 1296x432 with 1 Axes>"
            ]
          },
          "metadata": {
            "tags": []
          }
        }
      ]
    },
    {
      "cell_type": "code",
      "metadata": {
        "id": "FGCIouaZnx0U",
        "colab_type": "code",
        "colab": {
          "base_uri": "https://localhost:8080/",
          "height": 496
        },
        "outputId": "23d63b35-003c-4081-b818-2aa6ad923251"
      },
      "source": [
        "# K-Means on PCA data\n",
        "kmeanspca = KMeans(n_clusters=3, max_iter=1000, n_init=500, random_state=42)\n",
        "kmeanspca.fit(transformed_data)\n",
        "print(kmeanspca.labels_)\n",
        "centroidspca = kmeanspca.cluster_centers_\n",
        "centroidspca"
      ],
      "execution_count": 57,
      "outputs": [
        {
          "output_type": "stream",
          "text": [
            "[1 2 0 2 0 1 0 2 2 2 2 0 2 1 0 0 0 0 2 0 1 2 2 1 2 0 2 2 0 2 0 2 2 2 2 0 0\n",
            " 2 0 0 0 2 1 0 2 2 2 2 0 0 0 1 1 0 0 2 2 2 2 0 0 2 1 2 2 0 2 0 2 0 1 2 2 2\n",
            " 0 0 2 2 2 1 2 2 0 1 0 0 2 2 0 0 2 2 2 0 0 1 0 2 2 2 2 1 0 2 2 0 1 0 0 0 0\n",
            " 2 0 2 2 0 2 1 0 0 0 2 0 0 0 0 2 0 0 0 0 0 2 2 0 0 0 2 1 1 0 2 0 0 0 2 0 0\n",
            " 2 2 1 0 1 0 0 0 2 2 1 2 2 0 2 2 2 1 1 0 1 1 1 2 2 2 1 1 1 2 1 1 1 1 0 1 1\n",
            " 2 1 1 2 2 1 1 1 1 1 1 2 1 1 1 2 1 1 1 1 2 1 1 1 2 1 1 1 1 1 1 0 1 1 1 1 1\n",
            " 1 1 1 1 1 1 1 1 2 1 1 1 1 2 2 1 1 2 1 0 1 1 1 1 1 1 2 1 1 1 0 1 2 1 1 1 0\n",
            " 1 1 2 1 0 1 2 1 2 1 1 2 1 1 2 1 2 1 2 0 1 1 1 1 2 1 1 2 2 1 1 2 1 1 1 1 1\n",
            " 0 1 1 1 1 1 0]\n"
          ],
          "name": "stdout"
        },
        {
          "output_type": "execute_result",
          "data": {
            "text/plain": [
              "array([[-1.20902606e+00,  2.10128511e+00, -5.35464016e-01,\n",
              "        -1.74647157e-01,  5.81831451e-02,  4.96074584e-02,\n",
              "        -1.16977765e-02, -2.02455525e-01,  1.49604560e-01,\n",
              "        -3.95564579e-02, -1.78393886e-01, -1.05313894e-01,\n",
              "         1.86311996e-01,  4.88943562e-02, -1.93498142e-01,\n",
              "         1.06748123e-02, -3.23792153e-02],\n",
              "       [ 2.64202437e+00, -3.24842038e-01,  3.42099430e-02,\n",
              "         1.21836026e-01, -1.44594374e-01, -3.34171219e-02,\n",
              "        -1.23161515e-01,  3.00477026e-02,  2.98890613e-02,\n",
              "         2.67506452e-02,  1.19831781e-02, -2.13369870e-02,\n",
              "        -1.68851827e-02,  5.98928180e-02, -1.44601242e-02,\n",
              "         1.26869133e-01,  9.98585191e-02],\n",
              "       [-2.20544812e+00, -1.32999493e+00,  3.97686462e-01,\n",
              "        -4.21092312e-03,  1.27249014e-01, -2.43398378e-04,\n",
              "         1.58617610e-01,  1.29655810e-01, -1.58841504e-01,\n",
              "         6.80147272e-05,  1.31783341e-01,  1.12175147e-01,\n",
              "        -1.32344766e-01, -1.12563682e-01,  1.76165227e-01,\n",
              "        -1.62264997e-01, -9.42778516e-02]])"
            ]
          },
          "metadata": {
            "tags": []
          },
          "execution_count": 57
        }
      ]
    },
    {
      "cell_type": "code",
      "metadata": {
        "id": "JCacOIA-nxj1",
        "colab_type": "code",
        "colab": {
          "base_uri": "https://localhost:8080/",
          "height": 426
        },
        "outputId": "7a5b97fa-ddb2-4270-b0de-52937f22985a"
      },
      "source": [
        "#PCA's datatable with pca clusters\n",
        "X_copy = X\n",
        "X_copy['cluster_pca'] = kmeanspca.labels_\n",
        "X_copy"
      ],
      "execution_count": 58,
      "outputs": [
        {
          "output_type": "execute_result",
          "data": {
            "text/html": [
              "<div>\n",
              "<style scoped>\n",
              "    .dataframe tbody tr th:only-of-type {\n",
              "        vertical-align: middle;\n",
              "    }\n",
              "\n",
              "    .dataframe tbody tr th {\n",
              "        vertical-align: top;\n",
              "    }\n",
              "\n",
              "    .dataframe thead th {\n",
              "        text-align: right;\n",
              "    }\n",
              "</style>\n",
              "<table border=\"1\" class=\"dataframe\">\n",
              "  <thead>\n",
              "    <tr style=\"text-align: right;\">\n",
              "      <th></th>\n",
              "      <th>age</th>\n",
              "      <th>trestbps</th>\n",
              "      <th>chol</th>\n",
              "      <th>thalach</th>\n",
              "      <th>exang</th>\n",
              "      <th>oldpeak</th>\n",
              "      <th>ca</th>\n",
              "      <th>cp_0</th>\n",
              "      <th>cp_1</th>\n",
              "      <th>cp_2</th>\n",
              "      <th>cp_3</th>\n",
              "      <th>thal_0</th>\n",
              "      <th>thal_1</th>\n",
              "      <th>thal_2</th>\n",
              "      <th>thal_3</th>\n",
              "      <th>slope_0</th>\n",
              "      <th>slope_1</th>\n",
              "      <th>slope_2</th>\n",
              "      <th>sex_0</th>\n",
              "      <th>sex_1</th>\n",
              "      <th>restecg_0</th>\n",
              "      <th>restecg_1</th>\n",
              "      <th>restecg_2</th>\n",
              "      <th>cluster_pca</th>\n",
              "      <th>clusters</th>\n",
              "    </tr>\n",
              "  </thead>\n",
              "  <tbody>\n",
              "    <tr>\n",
              "      <th>0</th>\n",
              "      <td>63</td>\n",
              "      <td>145</td>\n",
              "      <td>233</td>\n",
              "      <td>150</td>\n",
              "      <td>0</td>\n",
              "      <td>2.3</td>\n",
              "      <td>0</td>\n",
              "      <td>0</td>\n",
              "      <td>0</td>\n",
              "      <td>0</td>\n",
              "      <td>1</td>\n",
              "      <td>0</td>\n",
              "      <td>1</td>\n",
              "      <td>0</td>\n",
              "      <td>0</td>\n",
              "      <td>1</td>\n",
              "      <td>0</td>\n",
              "      <td>0</td>\n",
              "      <td>0</td>\n",
              "      <td>1</td>\n",
              "      <td>1</td>\n",
              "      <td>0</td>\n",
              "      <td>0</td>\n",
              "      <td>1</td>\n",
              "      <td>0</td>\n",
              "    </tr>\n",
              "    <tr>\n",
              "      <th>1</th>\n",
              "      <td>37</td>\n",
              "      <td>130</td>\n",
              "      <td>250</td>\n",
              "      <td>187</td>\n",
              "      <td>0</td>\n",
              "      <td>3.5</td>\n",
              "      <td>0</td>\n",
              "      <td>0</td>\n",
              "      <td>0</td>\n",
              "      <td>1</td>\n",
              "      <td>0</td>\n",
              "      <td>0</td>\n",
              "      <td>0</td>\n",
              "      <td>1</td>\n",
              "      <td>0</td>\n",
              "      <td>1</td>\n",
              "      <td>0</td>\n",
              "      <td>0</td>\n",
              "      <td>0</td>\n",
              "      <td>1</td>\n",
              "      <td>0</td>\n",
              "      <td>1</td>\n",
              "      <td>0</td>\n",
              "      <td>2</td>\n",
              "      <td>2</td>\n",
              "    </tr>\n",
              "    <tr>\n",
              "      <th>2</th>\n",
              "      <td>41</td>\n",
              "      <td>130</td>\n",
              "      <td>204</td>\n",
              "      <td>172</td>\n",
              "      <td>0</td>\n",
              "      <td>1.4</td>\n",
              "      <td>0</td>\n",
              "      <td>0</td>\n",
              "      <td>1</td>\n",
              "      <td>0</td>\n",
              "      <td>0</td>\n",
              "      <td>0</td>\n",
              "      <td>0</td>\n",
              "      <td>1</td>\n",
              "      <td>0</td>\n",
              "      <td>0</td>\n",
              "      <td>0</td>\n",
              "      <td>1</td>\n",
              "      <td>1</td>\n",
              "      <td>0</td>\n",
              "      <td>1</td>\n",
              "      <td>0</td>\n",
              "      <td>0</td>\n",
              "      <td>0</td>\n",
              "      <td>1</td>\n",
              "    </tr>\n",
              "    <tr>\n",
              "      <th>3</th>\n",
              "      <td>56</td>\n",
              "      <td>120</td>\n",
              "      <td>236</td>\n",
              "      <td>178</td>\n",
              "      <td>0</td>\n",
              "      <td>0.8</td>\n",
              "      <td>0</td>\n",
              "      <td>0</td>\n",
              "      <td>1</td>\n",
              "      <td>0</td>\n",
              "      <td>0</td>\n",
              "      <td>0</td>\n",
              "      <td>0</td>\n",
              "      <td>1</td>\n",
              "      <td>0</td>\n",
              "      <td>0</td>\n",
              "      <td>0</td>\n",
              "      <td>1</td>\n",
              "      <td>0</td>\n",
              "      <td>1</td>\n",
              "      <td>0</td>\n",
              "      <td>1</td>\n",
              "      <td>0</td>\n",
              "      <td>2</td>\n",
              "      <td>2</td>\n",
              "    </tr>\n",
              "    <tr>\n",
              "      <th>4</th>\n",
              "      <td>57</td>\n",
              "      <td>120</td>\n",
              "      <td>354</td>\n",
              "      <td>163</td>\n",
              "      <td>1</td>\n",
              "      <td>0.6</td>\n",
              "      <td>0</td>\n",
              "      <td>1</td>\n",
              "      <td>0</td>\n",
              "      <td>0</td>\n",
              "      <td>0</td>\n",
              "      <td>0</td>\n",
              "      <td>0</td>\n",
              "      <td>1</td>\n",
              "      <td>0</td>\n",
              "      <td>0</td>\n",
              "      <td>0</td>\n",
              "      <td>1</td>\n",
              "      <td>1</td>\n",
              "      <td>0</td>\n",
              "      <td>0</td>\n",
              "      <td>1</td>\n",
              "      <td>0</td>\n",
              "      <td>0</td>\n",
              "      <td>1</td>\n",
              "    </tr>\n",
              "    <tr>\n",
              "      <th>...</th>\n",
              "      <td>...</td>\n",
              "      <td>...</td>\n",
              "      <td>...</td>\n",
              "      <td>...</td>\n",
              "      <td>...</td>\n",
              "      <td>...</td>\n",
              "      <td>...</td>\n",
              "      <td>...</td>\n",
              "      <td>...</td>\n",
              "      <td>...</td>\n",
              "      <td>...</td>\n",
              "      <td>...</td>\n",
              "      <td>...</td>\n",
              "      <td>...</td>\n",
              "      <td>...</td>\n",
              "      <td>...</td>\n",
              "      <td>...</td>\n",
              "      <td>...</td>\n",
              "      <td>...</td>\n",
              "      <td>...</td>\n",
              "      <td>...</td>\n",
              "      <td>...</td>\n",
              "      <td>...</td>\n",
              "      <td>...</td>\n",
              "      <td>...</td>\n",
              "    </tr>\n",
              "    <tr>\n",
              "      <th>298</th>\n",
              "      <td>57</td>\n",
              "      <td>140</td>\n",
              "      <td>241</td>\n",
              "      <td>123</td>\n",
              "      <td>1</td>\n",
              "      <td>0.2</td>\n",
              "      <td>0</td>\n",
              "      <td>1</td>\n",
              "      <td>0</td>\n",
              "      <td>0</td>\n",
              "      <td>0</td>\n",
              "      <td>0</td>\n",
              "      <td>0</td>\n",
              "      <td>0</td>\n",
              "      <td>1</td>\n",
              "      <td>0</td>\n",
              "      <td>1</td>\n",
              "      <td>0</td>\n",
              "      <td>1</td>\n",
              "      <td>0</td>\n",
              "      <td>0</td>\n",
              "      <td>1</td>\n",
              "      <td>0</td>\n",
              "      <td>1</td>\n",
              "      <td>0</td>\n",
              "    </tr>\n",
              "    <tr>\n",
              "      <th>299</th>\n",
              "      <td>45</td>\n",
              "      <td>110</td>\n",
              "      <td>264</td>\n",
              "      <td>132</td>\n",
              "      <td>0</td>\n",
              "      <td>1.2</td>\n",
              "      <td>0</td>\n",
              "      <td>0</td>\n",
              "      <td>0</td>\n",
              "      <td>0</td>\n",
              "      <td>1</td>\n",
              "      <td>0</td>\n",
              "      <td>0</td>\n",
              "      <td>0</td>\n",
              "      <td>1</td>\n",
              "      <td>0</td>\n",
              "      <td>1</td>\n",
              "      <td>0</td>\n",
              "      <td>0</td>\n",
              "      <td>1</td>\n",
              "      <td>0</td>\n",
              "      <td>1</td>\n",
              "      <td>0</td>\n",
              "      <td>1</td>\n",
              "      <td>0</td>\n",
              "    </tr>\n",
              "    <tr>\n",
              "      <th>300</th>\n",
              "      <td>68</td>\n",
              "      <td>144</td>\n",
              "      <td>193</td>\n",
              "      <td>141</td>\n",
              "      <td>0</td>\n",
              "      <td>3.4</td>\n",
              "      <td>2</td>\n",
              "      <td>1</td>\n",
              "      <td>0</td>\n",
              "      <td>0</td>\n",
              "      <td>0</td>\n",
              "      <td>0</td>\n",
              "      <td>0</td>\n",
              "      <td>0</td>\n",
              "      <td>1</td>\n",
              "      <td>0</td>\n",
              "      <td>1</td>\n",
              "      <td>0</td>\n",
              "      <td>0</td>\n",
              "      <td>1</td>\n",
              "      <td>0</td>\n",
              "      <td>1</td>\n",
              "      <td>0</td>\n",
              "      <td>1</td>\n",
              "      <td>0</td>\n",
              "    </tr>\n",
              "    <tr>\n",
              "      <th>301</th>\n",
              "      <td>57</td>\n",
              "      <td>130</td>\n",
              "      <td>131</td>\n",
              "      <td>115</td>\n",
              "      <td>1</td>\n",
              "      <td>1.2</td>\n",
              "      <td>1</td>\n",
              "      <td>1</td>\n",
              "      <td>0</td>\n",
              "      <td>0</td>\n",
              "      <td>0</td>\n",
              "      <td>0</td>\n",
              "      <td>0</td>\n",
              "      <td>0</td>\n",
              "      <td>1</td>\n",
              "      <td>0</td>\n",
              "      <td>1</td>\n",
              "      <td>0</td>\n",
              "      <td>0</td>\n",
              "      <td>1</td>\n",
              "      <td>0</td>\n",
              "      <td>1</td>\n",
              "      <td>0</td>\n",
              "      <td>1</td>\n",
              "      <td>0</td>\n",
              "    </tr>\n",
              "    <tr>\n",
              "      <th>302</th>\n",
              "      <td>57</td>\n",
              "      <td>130</td>\n",
              "      <td>236</td>\n",
              "      <td>174</td>\n",
              "      <td>0</td>\n",
              "      <td>0.0</td>\n",
              "      <td>1</td>\n",
              "      <td>0</td>\n",
              "      <td>1</td>\n",
              "      <td>0</td>\n",
              "      <td>0</td>\n",
              "      <td>0</td>\n",
              "      <td>0</td>\n",
              "      <td>1</td>\n",
              "      <td>0</td>\n",
              "      <td>0</td>\n",
              "      <td>1</td>\n",
              "      <td>0</td>\n",
              "      <td>1</td>\n",
              "      <td>0</td>\n",
              "      <td>1</td>\n",
              "      <td>0</td>\n",
              "      <td>0</td>\n",
              "      <td>0</td>\n",
              "      <td>1</td>\n",
              "    </tr>\n",
              "  </tbody>\n",
              "</table>\n",
              "<p>303 rows × 25 columns</p>\n",
              "</div>"
            ],
            "text/plain": [
              "     age  trestbps  chol  thalach  ...  restecg_1  restecg_2  cluster_pca  clusters\n",
              "0     63       145   233      150  ...          0          0            1         0\n",
              "1     37       130   250      187  ...          1          0            2         2\n",
              "2     41       130   204      172  ...          0          0            0         1\n",
              "3     56       120   236      178  ...          1          0            2         2\n",
              "4     57       120   354      163  ...          1          0            0         1\n",
              "..   ...       ...   ...      ...  ...        ...        ...          ...       ...\n",
              "298   57       140   241      123  ...          1          0            1         0\n",
              "299   45       110   264      132  ...          1          0            1         0\n",
              "300   68       144   193      141  ...          1          0            1         0\n",
              "301   57       130   131      115  ...          1          0            1         0\n",
              "302   57       130   236      174  ...          0          0            0         1\n",
              "\n",
              "[303 rows x 25 columns]"
            ]
          },
          "metadata": {
            "tags": []
          },
          "execution_count": 58
        }
      ]
    },
    {
      "cell_type": "code",
      "metadata": {
        "id": "KDhwPb4wbY9g",
        "colab_type": "code",
        "colab": {
          "base_uri": "https://localhost:8080/",
          "height": 283
        },
        "outputId": "70b6542c-b073-4a53-d5a9-38b36387b0d2"
      },
      "source": [
        "\n",
        "# Applying k-means to the dataset without PCA\n",
        "kmeans4 = KMeans(n_clusters=3, max_iter=1000, n_init=500, random_state=42) \n",
        "y_kmeans4 = kmeans4.fit_predict(X_std4)\n",
        "\n",
        "centroids4 = kmeans4.cluster_centers_\n",
        "centroids4\n",
        "\n",
        "#kmeans.labels_ are the same thing as y_means\n"
      ],
      "execution_count": 46,
      "outputs": [
        {
          "output_type": "execute_result",
          "data": {
            "text/plain": [
              "array([[ 0.3624704 ,  0.20793097,  0.05830431, -0.63147956,  0.60730552,\n",
              "         0.65599028,  0.39460433,  0.5445667 , -0.37776087, -0.36064053,\n",
              "         0.11905004,  0.0205469 ,  0.34304481, -0.76865974,  0.61580321,\n",
              "         0.11759654,  0.69775543, -0.75696524, -0.43231168,  0.43231168,\n",
              "         0.2694913 , -0.29255812,  0.10156357,  0.07687676, -1.07788328],\n",
              "       [ 0.1062006 , -0.11432925,  0.22656767,  0.1487675 , -0.3846142 ,\n",
              "        -0.37293198, -0.32023539, -0.33466544,  0.14681132,  0.30878362,\n",
              "        -0.10242432,  0.06908801, -0.25131234,  0.81044998, -0.71797045,\n",
              "        -0.12883756, -0.11955931,  0.18502161,  1.46841752, -1.46841752,\n",
              "        -0.11668998,  0.11865154, -0.00881578,  1.37096887,  1.3963488 ],\n",
              "       [-0.52567367, -0.15784649, -0.25633371,  0.64210092, -0.41945603,\n",
              "        -0.48794402, -0.21487822, -0.38450004,  0.33670537,  0.18317247,\n",
              "        -0.0600626 , -0.08151391, -0.2090081 ,  0.2655093 , -0.15638612,\n",
              "        -0.03664502, -0.74624543,  0.76421022, -0.68100522,  0.68100522,\n",
              "        -0.23039869,  0.25670107, -0.11566299, -1.21721536,  0.15923276]])"
            ]
          },
          "metadata": {
            "tags": []
          },
          "execution_count": 46
        }
      ]
    },
    {
      "cell_type": "code",
      "metadata": {
        "id": "HTTsU5YLbYwZ",
        "colab_type": "code",
        "colab": {
          "base_uri": "https://localhost:8080/",
          "height": 355
        },
        "outputId": "bb70770b-f110-4821-da8e-96e5decb1ee2"
      },
      "source": [
        "# Visualising the clusters\n",
        "fig, ax = plt.subplots(figsize=(6, 6))\n",
        "plt.scatter(X_std4[y_kmeans4 == 0, 0], X_std4[y_kmeans4 == 0, 1],\n",
        "            c='green', label='cluster 1')\n",
        "plt.scatter(X_std4[y_kmeans4 == 1, 0], X_std4[y_kmeans4 == 1, 1],\n",
        "            c='blue', label='cluster 2')\n",
        "plt.scatter(X_std4[y_kmeans4 == 2, 0], X_std4[y_kmeans4 == 2, 1],\n",
        "            c='grey', label='cluster 3')\n",
        "# plt.scatter(X_std4[kmeans4.labels_ == 3, 0], X_std4[kmeans4.labels_ == 3, 1],\n",
        "#             c='magenta', label='cluster 4')\n",
        "plt.scatter(centroids4[:, 0], centroids4[:, 1], marker='*', s=100,\n",
        "            c='red', label='centroid')\n",
        "plt.legend()\n",
        "plt.xlim([-4, 3])\n",
        "plt.ylim([-3, 2])\n",
        "plt.xlabel('?')\n",
        "plt.ylabel('?')\n",
        "plt.title('Visualization of clustered data', fontweight='bold')\n",
        "ax.set_aspect('equal');"
      ],
      "execution_count": 47,
      "outputs": [
        {
          "output_type": "display_data",
          "data": {
            "image/png": "[encoded data removed]",
            "text/plain": [
              "<Figure size 432x432 with 1 Axes>"
            ]
          },
          "metadata": {
            "tags": []
          }
        }
      ]
    },
    {
      "cell_type": "code",
      "metadata": {
        "id": "Gp3r9Z1jqMHb",
        "colab_type": "code",
        "colab": {
          "base_uri": "https://localhost:8080/",
          "height": 410
        },
        "outputId": "ae2eac4e-b632-4efd-b89a-de078a2add26"
      },
      "source": [
        "# Visualising the clusters with PCA 15\n",
        "fig, ax = plt.subplots(figsize=(6, 6))\n",
        "plt.scatter(std_pca[kmeanspca.labels_ == 0, 0], std_pca[kmeanspca.labels_ == 0, 1],\n",
        "            c='green', label='cluster 1')\n",
        "plt.scatter(std_pca[kmeanspca.labels_ == 1, 0], std_pca[kmeanspca.labels_ == 1, 1],\n",
        "            c='blue', label='cluster 2')\n",
        "plt.scatter(std_pca[kmeanspca.labels_ == 2, 0], std_pca[kmeanspca.labels_ == 2, 1],\n",
        "            c='grey', label='cluster 3')\n",
        "# plt.scatter(std_pca[kmeanspca.labels_ == 3, 0], std_pca[kmeanspca.labels_ == 3, 1],\n",
        "#             c='magenta', label='cluster 4')\n",
        "plt.scatter(centroidspca[:, 0], centroidspca[:, 1], marker='*', s=100,\n",
        "            c='red', label='centroid')\n",
        "plt.legend()\n",
        "plt.xlim([-4, 3])\n",
        "plt.ylim([-3, 3])\n",
        "plt.xlabel('?')\n",
        "plt.ylabel('?')\n",
        "plt.title('Visualization of clustered PCA data', fontweight='bold')\n",
        "ax.set_aspect('equal');"
      ],
      "execution_count": 59,
      "outputs": [
        {
          "output_type": "display_data",
          "data": {
            "image/png": "[encoded data removed]",
            "text/plain": [
              "<Figure size 432x432 with 1 Axes>"
            ]
          },
          "metadata": {
            "tags": []
          }
        }
      ]
    },
    {
      "cell_type": "markdown",
      "metadata": {
        "id": "IzTNl2ZWFxXz",
        "colab_type": "text"
      },
      "source": [
        "The results using all the features is a mess--the clusters appear to not create groups.\n"
      ]
    },
    {
      "cell_type": "code",
      "metadata": {
        "id": "Ta0TCujyS5sc",
        "colab_type": "code",
        "colab": {
          "base_uri": "https://localhost:8080/",
          "height": 217
        },
        "outputId": "8b28e970-7ace-4875-c985-3a00f92b0d5c"
      },
      "source": [
        "X['clusters'] = pd.DataFrame(kmeans4.labels_).values\n",
        "X.head()"
      ],
      "execution_count": 50,
      "outputs": [
        {
          "output_type": "execute_result",
          "data": {
            "text/html": [
              "<div>\n",
              "<style scoped>\n",
              "    .dataframe tbody tr th:only-of-type {\n",
              "        vertical-align: middle;\n",
              "    }\n",
              "\n",
              "    .dataframe tbody tr th {\n",
              "        vertical-align: top;\n",
              "    }\n",
              "\n",
              "    .dataframe thead th {\n",
              "        text-align: right;\n",
              "    }\n",
              "</style>\n",
              "<table border=\"1\" class=\"dataframe\">\n",
              "  <thead>\n",
              "    <tr style=\"text-align: right;\">\n",
              "      <th></th>\n",
              "      <th>age</th>\n",
              "      <th>trestbps</th>\n",
              "      <th>chol</th>\n",
              "      <th>thalach</th>\n",
              "      <th>exang</th>\n",
              "      <th>oldpeak</th>\n",
              "      <th>ca</th>\n",
              "      <th>cp_0</th>\n",
              "      <th>cp_1</th>\n",
              "      <th>cp_2</th>\n",
              "      <th>cp_3</th>\n",
              "      <th>thal_0</th>\n",
              "      <th>thal_1</th>\n",
              "      <th>thal_2</th>\n",
              "      <th>thal_3</th>\n",
              "      <th>slope_0</th>\n",
              "      <th>slope_1</th>\n",
              "      <th>slope_2</th>\n",
              "      <th>sex_0</th>\n",
              "      <th>sex_1</th>\n",
              "      <th>restecg_0</th>\n",
              "      <th>restecg_1</th>\n",
              "      <th>restecg_2</th>\n",
              "      <th>cluster_pca</th>\n",
              "      <th>clusters</th>\n",
              "    </tr>\n",
              "  </thead>\n",
              "  <tbody>\n",
              "    <tr>\n",
              "      <th>0</th>\n",
              "      <td>63</td>\n",
              "      <td>145</td>\n",
              "      <td>233</td>\n",
              "      <td>150</td>\n",
              "      <td>0</td>\n",
              "      <td>2.3</td>\n",
              "      <td>0</td>\n",
              "      <td>0</td>\n",
              "      <td>0</td>\n",
              "      <td>0</td>\n",
              "      <td>1</td>\n",
              "      <td>0</td>\n",
              "      <td>1</td>\n",
              "      <td>0</td>\n",
              "      <td>0</td>\n",
              "      <td>1</td>\n",
              "      <td>0</td>\n",
              "      <td>0</td>\n",
              "      <td>0</td>\n",
              "      <td>1</td>\n",
              "      <td>1</td>\n",
              "      <td>0</td>\n",
              "      <td>0</td>\n",
              "      <td>0</td>\n",
              "      <td>0</td>\n",
              "    </tr>\n",
              "    <tr>\n",
              "      <th>1</th>\n",
              "      <td>37</td>\n",
              "      <td>130</td>\n",
              "      <td>250</td>\n",
              "      <td>187</td>\n",
              "      <td>0</td>\n",
              "      <td>3.5</td>\n",
              "      <td>0</td>\n",
              "      <td>0</td>\n",
              "      <td>0</td>\n",
              "      <td>1</td>\n",
              "      <td>0</td>\n",
              "      <td>0</td>\n",
              "      <td>0</td>\n",
              "      <td>1</td>\n",
              "      <td>0</td>\n",
              "      <td>1</td>\n",
              "      <td>0</td>\n",
              "      <td>0</td>\n",
              "      <td>0</td>\n",
              "      <td>1</td>\n",
              "      <td>0</td>\n",
              "      <td>1</td>\n",
              "      <td>0</td>\n",
              "      <td>2</td>\n",
              "      <td>2</td>\n",
              "    </tr>\n",
              "    <tr>\n",
              "      <th>2</th>\n",
              "      <td>41</td>\n",
              "      <td>130</td>\n",
              "      <td>204</td>\n",
              "      <td>172</td>\n",
              "      <td>0</td>\n",
              "      <td>1.4</td>\n",
              "      <td>0</td>\n",
              "      <td>0</td>\n",
              "      <td>1</td>\n",
              "      <td>0</td>\n",
              "      <td>0</td>\n",
              "      <td>0</td>\n",
              "      <td>0</td>\n",
              "      <td>1</td>\n",
              "      <td>0</td>\n",
              "      <td>0</td>\n",
              "      <td>0</td>\n",
              "      <td>1</td>\n",
              "      <td>1</td>\n",
              "      <td>0</td>\n",
              "      <td>1</td>\n",
              "      <td>0</td>\n",
              "      <td>0</td>\n",
              "      <td>1</td>\n",
              "      <td>1</td>\n",
              "    </tr>\n",
              "    <tr>\n",
              "      <th>3</th>\n",
              "      <td>56</td>\n",
              "      <td>120</td>\n",
              "      <td>236</td>\n",
              "      <td>178</td>\n",
              "      <td>0</td>\n",
              "      <td>0.8</td>\n",
              "      <td>0</td>\n",
              "      <td>0</td>\n",
              "      <td>1</td>\n",
              "      <td>0</td>\n",
              "      <td>0</td>\n",
              "      <td>0</td>\n",
              "      <td>0</td>\n",
              "      <td>1</td>\n",
              "      <td>0</td>\n",
              "      <td>0</td>\n",
              "      <td>0</td>\n",
              "      <td>1</td>\n",
              "      <td>0</td>\n",
              "      <td>1</td>\n",
              "      <td>0</td>\n",
              "      <td>1</td>\n",
              "      <td>0</td>\n",
              "      <td>2</td>\n",
              "      <td>2</td>\n",
              "    </tr>\n",
              "    <tr>\n",
              "      <th>4</th>\n",
              "      <td>57</td>\n",
              "      <td>120</td>\n",
              "      <td>354</td>\n",
              "      <td>163</td>\n",
              "      <td>1</td>\n",
              "      <td>0.6</td>\n",
              "      <td>0</td>\n",
              "      <td>1</td>\n",
              "      <td>0</td>\n",
              "      <td>0</td>\n",
              "      <td>0</td>\n",
              "      <td>0</td>\n",
              "      <td>0</td>\n",
              "      <td>1</td>\n",
              "      <td>0</td>\n",
              "      <td>0</td>\n",
              "      <td>0</td>\n",
              "      <td>1</td>\n",
              "      <td>1</td>\n",
              "      <td>0</td>\n",
              "      <td>0</td>\n",
              "      <td>1</td>\n",
              "      <td>0</td>\n",
              "      <td>1</td>\n",
              "      <td>1</td>\n",
              "    </tr>\n",
              "  </tbody>\n",
              "</table>\n",
              "</div>"
            ],
            "text/plain": [
              "   age  trestbps  chol  thalach  ...  restecg_1  restecg_2  cluster_pca  clusters\n",
              "0   63       145   233      150  ...          0          0            0         0\n",
              "1   37       130   250      187  ...          1          0            2         2\n",
              "2   41       130   204      172  ...          0          0            1         1\n",
              "3   56       120   236      178  ...          1          0            2         2\n",
              "4   57       120   354      163  ...          1          0            1         1\n",
              "\n",
              "[5 rows x 25 columns]"
            ]
          },
          "metadata": {
            "tags": []
          },
          "execution_count": 50
        }
      ]
    },
    {
      "cell_type": "code",
      "metadata": {
        "id": "RppCBFY1JXDv",
        "colab_type": "code",
        "colab": {
          "base_uri": "https://localhost:8080/",
          "height": 300
        },
        "outputId": "ad6e3b3f-e5aa-4bff-c293-fc85cca52cad"
      },
      "source": [
        "#data with cluster lables-- non-pca\n",
        "fig, ax = plt.subplots()\n",
        "colors = {0:'magenta', 1:'blue', 2:'orange', 3:'red', 4:'pink', 5:'yellow', 6:'purple', 7:'black', 8:'green'}\n",
        "grouped = X.groupby('clusters')\n",
        "for key, group in grouped:\n",
        "    group.plot(ax=ax, kind='scatter', x='age', y='chol', label=key, color=colors[key])\n",
        "plt.show()"
      ],
      "execution_count": 51,
      "outputs": [
        {
          "output_type": "display_data",
          "data": {
            "image/png": "[encoded data removed]",
            "text/plain": [
              "<Figure size 432x288 with 1 Axes>"
            ]
          },
          "metadata": {
            "tags": []
          }
        }
      ]
    },
    {
      "cell_type": "code",
      "metadata": {
        "id": "dYINmKRKpYpo",
        "colab_type": "code",
        "colab": {
          "base_uri": "https://localhost:8080/",
          "height": 300
        },
        "outputId": "cdb575c3-2f2d-4311-c91a-a3c72fa0c513"
      },
      "source": [
        "#pca data with cluster labels\n",
        "\n",
        "\n",
        "fig, ax = plt.subplots()\n",
        "colors = {0:'magenta', 1:'blue', 2:'orange', 3:'red', 4:'pink', 5:'yellow', 6:'purple', 7:'black', 8:'green'}\n",
        "grouped = X_copy.groupby('cluster_pca')\n",
        "for key, group in grouped:\n",
        "    group.plot(ax=ax, kind='scatter', x='age', y='chol', label=key, color=colors[key])\n",
        "plt.show()"
      ],
      "execution_count": 52,
      "outputs": [
        {
          "output_type": "display_data",
          "data": {
            "image/png": "[encoded data removed]",
            "text/plain": [
              "<Figure size 432x288 with 1 Axes>"
            ]
          },
          "metadata": {
            "tags": []
          }
        }
      ]
    },
    {
      "cell_type": "code",
      "metadata": {
        "id": "fRgYawY1uh0O",
        "colab_type": "code",
        "colab": {
          "base_uri": "https://localhost:8080/",
          "height": 295
        },
        "outputId": "66114fe5-7990-4be2-9634-bef1d56de92d"
      },
      "source": [
        "plt.scatter(X_std4[:, 0], X_std4[:, 1], c=kmeans4.labels_, cmap='rainbow')"
      ],
      "execution_count": 53,
      "outputs": [
        {
          "output_type": "execute_result",
          "data": {
            "text/plain": [
              "<matplotlib.collections.PathCollection at 0x7f6242b9f160>"
            ]
          },
          "metadata": {
            "tags": []
          },
          "execution_count": 53
        },
        {
          "output_type": "display_data",
          "data": {
            "image/png": "[encoded data removed]",
            "text/plain": [
              "<Figure size 432x288 with 1 Axes>"
            ]
          },
          "metadata": {
            "tags": []
          }
        }
      ]
    },
    {
      "cell_type": "code",
      "metadata": {
        "id": "6N5QLsG2yXhx",
        "colab_type": "code",
        "colab": {
          "base_uri": "https://localhost:8080/",
          "height": 295
        },
        "outputId": "9cf37398-657f-4d53-930e-0f96bd1817d9"
      },
      "source": [
        "plt.scatter(std_pca[:, 0], std_pca[:, 1], c=kmeanspca.labels_, cmap='rainbow')"
      ],
      "execution_count": 60,
      "outputs": [
        {
          "output_type": "execute_result",
          "data": {
            "text/plain": [
              "<matplotlib.collections.PathCollection at 0x7f6242c83b38>"
            ]
          },
          "metadata": {
            "tags": []
          },
          "execution_count": 60
        },
        {
          "output_type": "display_data",
          "data": {
            "image/png": "[encoded data removed]",
            "text/plain": [
              "<Figure size 432x288 with 1 Axes>"
            ]
          },
          "metadata": {
            "tags": []
          }
        }
      ]
    }
  ]
}